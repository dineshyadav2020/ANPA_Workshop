{
 "cells": [
  {
   "cell_type": "markdown",
   "metadata": {},
   "source": [
    "# Homeworks for Week 3\n",
    "\n",
    "## HW1\n",
    "\n",
    "Calculate derivative  $(d/dx)$ of a function  : $f(x) = e^{-ax^2}$ at $x = 1 $ analytically. And Confirm your results with numerical implementation for any arbitrary value of $a$.\n",
    "\n",
    "* Hint: use arguement $args=(a,)$ in the derivative call and give $a$ as second input arguement in the function.\n",
    "* Hint: If your numerical answer doesn't match, use another arguement in the derivative call $dx=1e-3$ or some small number.\n",
    "\n",
    "\n",
    "## HW2\n",
    "\n",
    "Evaluate the following integration: \n",
    "\n",
    "$$I = \\int_0^{\\infty}  x^2 e^{-ax^2}  \\ dx$$\n",
    "\n",
    "using both numerical and analytical methods. For any arbitrary value of $a$. Make sure they match with each other.\n",
    "\n",
    "* Hint: use arguement $args=(a,)$ in the quad call and give $a$ as second input arguement in the function.\n",
    "* Hint: Use Feynman's **Derivative inside integral technique** for the analytical evaluation.\n",
    "\n",
    "## HW3\n",
    "\n",
    "Implement an algebraic function $y =   0.1 x^2 + sin(x) + 2 $\n",
    "\n",
    "of some input value $x$ print the output $y$ for 15 different values of $x $ in range $[-8, 8]$. Save the data as some file. Load the file and do numerical integration using **trapz** as well as **simps** methods. Also calculate the analytical integration of the function you used earlier and compare your results.\n",
    "\n",
    "\n",
    "## HW4\n",
    "\n",
    "Perform the same 1D random walk using an array with zero values and populating the array at each random walk steps.\n",
    "\n",
    "\n",
    "## HW5\n",
    "\n",
    "* Perform the Similar 2D random walk with the counter being initialized as a zero Matrix (HINT: use np.zeros()) and the random number for each step in the range $[-2, 2)$. HINT: Change the scale of the random number which originally is in the range $[0,1)$ to your range. \n",
    "* Compute the average values of x coordinates as well as the y coordinates of all the points visited. HINT: use np.mean()\n",
    "* Calculate the distance between first point and the last point visited. # HINT: Use standard mathematical formula\n",
    "* Calculate the longest and the shortest distances of all the points (except the origin) from starting point., HINT: use np.max() and np.min()\n",
    "\n",
    "\n",
    "## HW6\n",
    "\n",
    "In our calculation of $\\pi$, draw a figure with circle inscribed in a square with all of your random dots. Use different colors for the dots inside and outside the circle. Plot vertical and horizontal line passing through the origin for the axis.\n",
    "\n",
    "**Hints**\n",
    "* You can use plt.axvline and plt.axhline for vertical and horizontal lines. and these can be used to draw the outer lines of the square as well. Just change the location of the lines.\n",
    "* Plotting a circle can be done in many ways, one way is to first generate points on the circle using $(r cos(\\theta), r sin(\\theta) )$ and taking $r=1$ and $\\theta \\in [0, 2\\pi]$\n",
    "* Plotting dots can be done by doing a scatter plot at each step. Plot the inside dots inside your if (l<=1) statement.\n",
    "* You can use plt.figure(figsize=(8,8)) at the begining to make the aspect ratio same for both the axis.\n",
    "* First use only \n"
   ]
  },
  {
   "cell_type": "code",
   "execution_count": null,
   "metadata": {},
   "outputs": [],
   "source": []
  }
 ],
 "metadata": {
  "kernelspec": {
   "display_name": "Python 3",
   "language": "python",
   "name": "python3"
  },
  "language_info": {
   "codemirror_mode": {
    "name": "ipython",
    "version": 3
   },
   "file_extension": ".py",
   "mimetype": "text/x-python",
   "name": "python",
   "nbconvert_exporter": "python",
   "pygments_lexer": "ipython3",
   "version": "3.7.5"
  }
 },
 "nbformat": 4,
 "nbformat_minor": 2
}
