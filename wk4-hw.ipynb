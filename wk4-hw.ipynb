{
 "cells": [
  {
   "cell_type": "markdown",
   "metadata": {},
   "source": [
    "# Homework Problems for Week4\n",
    "\n",
    "\n",
    "**1.** Install wget on your computer and download the data file from the link https://ndownloader.figshare.com/files/12948515 as a filename boulder.csv. Remember: you have to use wget and give some arguement to save the file as a different name.\n",
    "\n",
    "**2.** Load the above file with name 'boulder.csv'. Do the folloing.\n",
    "\n",
    "* Find the dates for which max_temp was greater than 90. plot only those days with the Dates.\n",
    "* Find the dates for which max_temp was in the range [80-90] and plot the data.\n",
    "* Write some function (as a model) which would best fit the data above [the entire range]. Use your model to predict the max_temp on the date 2018-08-05. Note: You may have to do a few trial before coming with a good guess. Hint: You can try some algebraic function as well.\n",
    "\n",
    "**3.** Once again use the COVID-19 data to make a [3x3] subplots for total number of deaths as well as total number of cases for 9 countries of your choice. Give range on left y column for total cases and on the right y column for total deaths. Put title for each subplot. Hint: Use plt.twinx()\n",
    "\n",
    "**4.** We used Gaussian fitting for the daily cases/deaths data in the class. There are a lot of functions which resemble the Gaussian. Could you find a different function which better fits the daily cases/deaths. Show all of your work.\n",
    "\n",
    "**5.** calculate the death vs total cases ratio for all the countries and plot that for each countries in increasing order. Hint: Use sort function to sort the data set.\n",
    "\n",
    "**6.** In the plots we made in the class, Shift the origins to the day when the confirmned cases crossed 1000. Choose 6 of the countries of your choice and make 6 subplots."
   ]
  },
  {
   "cell_type": "code",
   "execution_count": null,
   "metadata": {},
   "outputs": [],
   "source": []
  }
 ],
 "metadata": {
  "kernelspec": {
   "display_name": "Python 3",
   "language": "python",
   "name": "python3"
  },
  "language_info": {
   "codemirror_mode": {
    "name": "ipython",
    "version": 3
   },
   "file_extension": ".py",
   "mimetype": "text/x-python",
   "name": "python",
   "nbconvert_exporter": "python",
   "pygments_lexer": "ipython3",
   "version": "3.7.5"
  }
 },
 "nbformat": 4,
 "nbformat_minor": 2
}
